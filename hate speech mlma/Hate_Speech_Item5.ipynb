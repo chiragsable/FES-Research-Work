{
  "nbformat": 4,
  "nbformat_minor": 0,
  "metadata": {
    "colab": {
      "name": "Hate_Speech_Item5.ipynb",
      "provenance": [],
      "authorship_tag": "ABX9TyP2vATiCOTXnAyEhXGbQJnT",
      "include_colab_link": true
    },
    "kernelspec": {
      "name": "python3",
      "display_name": "Python 3"
    },
    "language_info": {
      "name": "python"
    }
  },
  "cells": [
    {
      "cell_type": "markdown",
      "metadata": {
        "id": "view-in-github",
        "colab_type": "text"
      },
      "source": [
        "<a href=\"https://colab.research.google.com/github/chiragsable/FES-Research-Work/blob/main/hate%20speech%20mlma/Hate_Speech_Item5.ipynb\" target=\"_parent\"><img src=\"https://colab.research.google.com/assets/colab-badge.svg\" alt=\"Open In Colab\"/></a>"
      ]
    },
    {
      "cell_type": "markdown",
      "source": [
        "Hate Speech Jupyter Notebook\n",
        "\n",
        "Author: Chirag Sable\n",
        "\n",
        "This notebook explores the Multilingual and Multi-Aspect Hate Speech Dataset"
      ],
      "metadata": {
        "id": "7-p66UChj4ML"
      }
    },
    {
      "cell_type": "code",
      "execution_count": 1,
      "metadata": {
        "id": "p90JQ-mHjsTb"
      },
      "outputs": [],
      "source": [
        "import json\n",
        "import pandas as pd\n",
        "\n",
        "#Libraries"
      ]
    },
    {
      "cell_type": "code",
      "source": [
        "hs = pd.read_csv('https://raw.githubusercontent.com/chiragsable/FES-Research-Work/main/hate%20speech%20mlma/en_dataset.csv')"
      ],
      "metadata": {
        "id": "_6UGVisdj2r3"
      },
      "execution_count": 2,
      "outputs": []
    },
    {
      "cell_type": "code",
      "source": [
        "hs.drop(['HITId'], axis=1, inplace=True)"
      ],
      "metadata": {
        "id": "bzALBWDdkJoC"
      },
      "execution_count": 4,
      "outputs": []
    },
    {
      "cell_type": "code",
      "source": [
        "hs.head()"
      ],
      "metadata": {
        "colab": {
          "base_uri": "https://localhost:8080/",
          "height": 206
        },
        "id": "fqI8Y8xkkXIb",
        "outputId": "826b41cd-a6b8-4498-fc38-deed49dbd12c"
      },
      "execution_count": 7,
      "outputs": [
        {
          "output_type": "execute_result",
          "data": {
            "text/html": [
              "\n",
              "  <div id=\"df-16ebf0be-7d1c-49a0-ab41-538bf6302be2\">\n",
              "    <div class=\"colab-df-container\">\n",
              "      <div>\n",
              "<style scoped>\n",
              "    .dataframe tbody tr th:only-of-type {\n",
              "        vertical-align: middle;\n",
              "    }\n",
              "\n",
              "    .dataframe tbody tr th {\n",
              "        vertical-align: top;\n",
              "    }\n",
              "\n",
              "    .dataframe thead th {\n",
              "        text-align: right;\n",
              "    }\n",
              "</style>\n",
              "<table border=\"1\" class=\"dataframe\">\n",
              "  <thead>\n",
              "    <tr style=\"text-align: right;\">\n",
              "      <th></th>\n",
              "      <th>tweet</th>\n",
              "      <th>sentiment</th>\n",
              "      <th>directness</th>\n",
              "      <th>annotator_sentiment</th>\n",
              "      <th>target</th>\n",
              "      <th>group</th>\n",
              "    </tr>\n",
              "  </thead>\n",
              "  <tbody>\n",
              "    <tr>\n",
              "      <th>0</th>\n",
              "      <td>call sis im boy girl still faggot shut</td>\n",
              "      <td>offensive</td>\n",
              "      <td>indirect</td>\n",
              "      <td>confusion_disgust</td>\n",
              "      <td>origin</td>\n",
              "      <td>gay</td>\n",
              "    </tr>\n",
              "    <tr>\n",
              "      <th>1</th>\n",
              "      <td>@user @user legit nilas retarded idk</td>\n",
              "      <td>offensive_disrespectful</td>\n",
              "      <td>indirect</td>\n",
              "      <td>anger_confusion</td>\n",
              "      <td>disability</td>\n",
              "      <td>special_needs</td>\n",
              "    </tr>\n",
              "    <tr>\n",
              "      <th>2</th>\n",
              "      <td>said retard @url</td>\n",
              "      <td>fearful_abusive_offensive_hateful</td>\n",
              "      <td>indirect</td>\n",
              "      <td>confusion_disgust</td>\n",
              "      <td>disability</td>\n",
              "      <td>special_needs</td>\n",
              "    </tr>\n",
              "    <tr>\n",
              "      <th>3</th>\n",
              "      <td>america another 8 years obama's ideology via h...</td>\n",
              "      <td>fearful_abusive_hateful_disrespectful_normal</td>\n",
              "      <td>indirect</td>\n",
              "      <td>anger_fear_shock_sadness_disgust</td>\n",
              "      <td>origin</td>\n",
              "      <td>other</td>\n",
              "    </tr>\n",
              "    <tr>\n",
              "      <th>4</th>\n",
              "      <td>@user don... fucking made cry twat.</td>\n",
              "      <td>offensive</td>\n",
              "      <td>indirect</td>\n",
              "      <td>shock_disgust</td>\n",
              "      <td>gender</td>\n",
              "      <td>women</td>\n",
              "    </tr>\n",
              "  </tbody>\n",
              "</table>\n",
              "</div>\n",
              "      <button class=\"colab-df-convert\" onclick=\"convertToInteractive('df-16ebf0be-7d1c-49a0-ab41-538bf6302be2')\"\n",
              "              title=\"Convert this dataframe to an interactive table.\"\n",
              "              style=\"display:none;\">\n",
              "        \n",
              "  <svg xmlns=\"http://www.w3.org/2000/svg\" height=\"24px\"viewBox=\"0 0 24 24\"\n",
              "       width=\"24px\">\n",
              "    <path d=\"M0 0h24v24H0V0z\" fill=\"none\"/>\n",
              "    <path d=\"M18.56 5.44l.94 2.06.94-2.06 2.06-.94-2.06-.94-.94-2.06-.94 2.06-2.06.94zm-11 1L8.5 8.5l.94-2.06 2.06-.94-2.06-.94L8.5 2.5l-.94 2.06-2.06.94zm10 10l.94 2.06.94-2.06 2.06-.94-2.06-.94-.94-2.06-.94 2.06-2.06.94z\"/><path d=\"M17.41 7.96l-1.37-1.37c-.4-.4-.92-.59-1.43-.59-.52 0-1.04.2-1.43.59L10.3 9.45l-7.72 7.72c-.78.78-.78 2.05 0 2.83L4 21.41c.39.39.9.59 1.41.59.51 0 1.02-.2 1.41-.59l7.78-7.78 2.81-2.81c.8-.78.8-2.07 0-2.86zM5.41 20L4 18.59l7.72-7.72 1.47 1.35L5.41 20z\"/>\n",
              "  </svg>\n",
              "      </button>\n",
              "      \n",
              "  <style>\n",
              "    .colab-df-container {\n",
              "      display:flex;\n",
              "      flex-wrap:wrap;\n",
              "      gap: 12px;\n",
              "    }\n",
              "\n",
              "    .colab-df-convert {\n",
              "      background-color: #E8F0FE;\n",
              "      border: none;\n",
              "      border-radius: 50%;\n",
              "      cursor: pointer;\n",
              "      display: none;\n",
              "      fill: #1967D2;\n",
              "      height: 32px;\n",
              "      padding: 0 0 0 0;\n",
              "      width: 32px;\n",
              "    }\n",
              "\n",
              "    .colab-df-convert:hover {\n",
              "      background-color: #E2EBFA;\n",
              "      box-shadow: 0px 1px 2px rgba(60, 64, 67, 0.3), 0px 1px 3px 1px rgba(60, 64, 67, 0.15);\n",
              "      fill: #174EA6;\n",
              "    }\n",
              "\n",
              "    [theme=dark] .colab-df-convert {\n",
              "      background-color: #3B4455;\n",
              "      fill: #D2E3FC;\n",
              "    }\n",
              "\n",
              "    [theme=dark] .colab-df-convert:hover {\n",
              "      background-color: #434B5C;\n",
              "      box-shadow: 0px 1px 3px 1px rgba(0, 0, 0, 0.15);\n",
              "      filter: drop-shadow(0px 1px 2px rgba(0, 0, 0, 0.3));\n",
              "      fill: #FFFFFF;\n",
              "    }\n",
              "  </style>\n",
              "\n",
              "      <script>\n",
              "        const buttonEl =\n",
              "          document.querySelector('#df-16ebf0be-7d1c-49a0-ab41-538bf6302be2 button.colab-df-convert');\n",
              "        buttonEl.style.display =\n",
              "          google.colab.kernel.accessAllowed ? 'block' : 'none';\n",
              "\n",
              "        async function convertToInteractive(key) {\n",
              "          const element = document.querySelector('#df-16ebf0be-7d1c-49a0-ab41-538bf6302be2');\n",
              "          const dataTable =\n",
              "            await google.colab.kernel.invokeFunction('convertToInteractive',\n",
              "                                                     [key], {});\n",
              "          if (!dataTable) return;\n",
              "\n",
              "          const docLinkHtml = 'Like what you see? Visit the ' +\n",
              "            '<a target=\"_blank\" href=https://colab.research.google.com/notebooks/data_table.ipynb>data table notebook</a>'\n",
              "            + ' to learn more about interactive tables.';\n",
              "          element.innerHTML = '';\n",
              "          dataTable['output_type'] = 'display_data';\n",
              "          await google.colab.output.renderOutput(dataTable, element);\n",
              "          const docLink = document.createElement('div');\n",
              "          docLink.innerHTML = docLinkHtml;\n",
              "          element.appendChild(docLink);\n",
              "        }\n",
              "      </script>\n",
              "    </div>\n",
              "  </div>\n",
              "  "
            ],
            "text/plain": [
              "                                               tweet  ...          group\n",
              "0             call sis im boy girl still faggot shut  ...            gay\n",
              "1               @user @user legit nilas retarded idk  ...  special_needs\n",
              "2                                   said retard @url  ...  special_needs\n",
              "3  america another 8 years obama's ideology via h...  ...          other\n",
              "4                @user don... fucking made cry twat.  ...          women\n",
              "\n",
              "[5 rows x 6 columns]"
            ]
          },
          "metadata": {},
          "execution_count": 7
        }
      ]
    },
    {
      "cell_type": "code",
      "source": [
        "hs['directness'].value_counts()"
      ],
      "metadata": {
        "colab": {
          "base_uri": "https://localhost:8080/"
        },
        "id": "aVBRYAYBkwEc",
        "outputId": "3fb1c8f8-8d1a-4ce9-a361-f2edc911a48e"
      },
      "execution_count": 8,
      "outputs": [
        {
          "output_type": "execute_result",
          "data": {
            "text/plain": [
              "indirect    5078\n",
              "direct       569\n",
              "Name: directness, dtype: int64"
            ]
          },
          "metadata": {},
          "execution_count": 8
        }
      ]
    },
    {
      "cell_type": "code",
      "source": [
        "hs.info()\n",
        "\n",
        "#This dataframe has 6 columns and 5646 rows.\n",
        "#Column 1 - tweet \n",
        "#Column 2 - sentiment\n",
        "#Column 3 - directness\n",
        "#Column 4 - annotator_sentiment\n",
        "#Column 5 - target\n",
        "#Column 6 - group"
      ],
      "metadata": {
        "colab": {
          "base_uri": "https://localhost:8080/"
        },
        "id": "oJZ-kZnbk2OG",
        "outputId": "4ed7b430-8d81-4a39-ef85-2f22578affc1"
      },
      "execution_count": 11,
      "outputs": [
        {
          "output_type": "stream",
          "name": "stdout",
          "text": [
            "<class 'pandas.core.frame.DataFrame'>\n",
            "RangeIndex: 5647 entries, 0 to 5646\n",
            "Data columns (total 6 columns):\n",
            " #   Column               Non-Null Count  Dtype \n",
            "---  ------               --------------  ----- \n",
            " 0   tweet                5647 non-null   object\n",
            " 1   sentiment            5647 non-null   object\n",
            " 2   directness           5647 non-null   object\n",
            " 3   annotator_sentiment  5647 non-null   object\n",
            " 4   target               5647 non-null   object\n",
            " 5   group                5647 non-null   object\n",
            "dtypes: object(6)\n",
            "memory usage: 264.8+ KB\n"
          ]
        }
      ]
    },
    {
      "cell_type": "code",
      "source": [
        "hs['group'].value_counts()"
      ],
      "metadata": {
        "colab": {
          "base_uri": "https://localhost:8080/"
        },
        "id": "xs4qP6_plJpK",
        "outputId": "27808768-c0dc-4446-d299-4f9f8fdf1b05"
      },
      "execution_count": 13,
      "outputs": [
        {
          "output_type": "execute_result",
          "data": {
            "text/plain": [
              "other               1590\n",
              "special_needs       1571\n",
              "women                878\n",
              "individual           497\n",
              "left_wing_people     177\n",
              "refugees             171\n",
              "gay                  163\n",
              "immigrants           130\n",
              "hispanics            105\n",
              "muslims              101\n",
              "african_descent       86\n",
              "indian/hindu          83\n",
              "asians                61\n",
              "jews                  24\n",
              "arabs                  6\n",
              "christian              4\n",
              "Name: group, dtype: int64"
            ]
          },
          "metadata": {},
          "execution_count": 13
        }
      ]
    },
    {
      "cell_type": "code",
      "source": [
        "# The major target group is of special_needs and then comes women and individual. Other groups include different communities"
      ],
      "metadata": {
        "id": "FZeSbUK-mTxB"
      },
      "execution_count": 15,
      "outputs": []
    },
    {
      "cell_type": "code",
      "source": [
        "hs['target'].value_counts()"
      ],
      "metadata": {
        "colab": {
          "base_uri": "https://localhost:8080/"
        },
        "id": "b23ztl96lYn-",
        "outputId": "0c041527-fd9e-49b9-eaef-f73bd7124c70"
      },
      "execution_count": 14,
      "outputs": [
        {
          "output_type": "execute_result",
          "data": {
            "text/plain": [
              "origin                2448\n",
              "disability            1089\n",
              "other                  890\n",
              "gender                 638\n",
              "sexual_orientation     514\n",
              "religion                68\n",
              "Name: target, dtype: int64"
            ]
          },
          "metadata": {},
          "execution_count": 14
        }
      ]
    },
    {
      "cell_type": "code",
      "source": [
        "# Most of the target is disability and then comes gender and sexual_orientation"
      ],
      "metadata": {
        "id": "0hfgYUsLmEtW"
      },
      "execution_count": 16,
      "outputs": []
    },
    {
      "cell_type": "code",
      "source": [
        "df = hs.sample(frac = 0.2)"
      ],
      "metadata": {
        "id": "rkPA1m65nNoU"
      },
      "execution_count": 17,
      "outputs": []
    },
    {
      "cell_type": "code",
      "source": [
        "df.reset_index(drop=True, inplace=True)\n",
        "df.head(10)"
      ],
      "metadata": {
        "colab": {
          "base_uri": "https://localhost:8080/",
          "height": 363
        },
        "id": "NMUCtjThnMy4",
        "outputId": "ee45f568-b3c8-45c9-f87f-ebc706c338db"
      },
      "execution_count": 18,
      "outputs": [
        {
          "output_type": "execute_result",
          "data": {
            "text/html": [
              "\n",
              "  <div id=\"df-ec414c17-a53b-4aa0-bff3-9da6e8b7743a\">\n",
              "    <div class=\"colab-df-container\">\n",
              "      <div>\n",
              "<style scoped>\n",
              "    .dataframe tbody tr th:only-of-type {\n",
              "        vertical-align: middle;\n",
              "    }\n",
              "\n",
              "    .dataframe tbody tr th {\n",
              "        vertical-align: top;\n",
              "    }\n",
              "\n",
              "    .dataframe thead th {\n",
              "        text-align: right;\n",
              "    }\n",
              "</style>\n",
              "<table border=\"1\" class=\"dataframe\">\n",
              "  <thead>\n",
              "    <tr style=\"text-align: right;\">\n",
              "      <th></th>\n",
              "      <th>tweet</th>\n",
              "      <th>sentiment</th>\n",
              "      <th>directness</th>\n",
              "      <th>annotator_sentiment</th>\n",
              "      <th>target</th>\n",
              "      <th>group</th>\n",
              "    </tr>\n",
              "  </thead>\n",
              "  <tbody>\n",
              "    <tr>\n",
              "      <th>0</th>\n",
              "      <td>shut fat sweaty mongoloid. never get higher d....</td>\n",
              "      <td>hateful_normal</td>\n",
              "      <td>direct</td>\n",
              "      <td>anger_confusion_sadness_indifference_disgust</td>\n",
              "      <td>disability</td>\n",
              "      <td>special_needs</td>\n",
              "    </tr>\n",
              "    <tr>\n",
              "      <th>1</th>\n",
              "      <td>@user @user look like dyke bruh</td>\n",
              "      <td>normal</td>\n",
              "      <td>indirect</td>\n",
              "      <td>anger_fear_indifference_sadness_disgust</td>\n",
              "      <td>sexual_orientation</td>\n",
              "      <td>women</td>\n",
              "    </tr>\n",
              "    <tr>\n",
              "      <th>2</th>\n",
              "      <td>@user r word? mean retard?</td>\n",
              "      <td>offensive</td>\n",
              "      <td>indirect</td>\n",
              "      <td>sadness_indifference</td>\n",
              "      <td>disability</td>\n",
              "      <td>special_needs</td>\n",
              "    </tr>\n",
              "    <tr>\n",
              "      <th>3</th>\n",
              "      <td>i'm ur motivation twat @url</td>\n",
              "      <td>fearful_abusive</td>\n",
              "      <td>indirect</td>\n",
              "      <td>shock_disgust</td>\n",
              "      <td>gender</td>\n",
              "      <td>women</td>\n",
              "    </tr>\n",
              "    <tr>\n",
              "      <th>4</th>\n",
              "      <td>@user @user ='shithole x countriesn= rapists b...</td>\n",
              "      <td>offensive</td>\n",
              "      <td>indirect</td>\n",
              "      <td>fear_disgust</td>\n",
              "      <td>origin</td>\n",
              "      <td>immigrants</td>\n",
              "    </tr>\n",
              "    <tr>\n",
              "      <th>5</th>\n",
              "      <td>@user @user @user @user runaway spic. ohhh im ...</td>\n",
              "      <td>offensive_hateful</td>\n",
              "      <td>indirect</td>\n",
              "      <td>shock_disgust</td>\n",
              "      <td>origin</td>\n",
              "      <td>other</td>\n",
              "    </tr>\n",
              "    <tr>\n",
              "      <th>6</th>\n",
              "      <td>marko cunt.nntell something new. @url</td>\n",
              "      <td>fearful_abusive_offensive_hateful_normal</td>\n",
              "      <td>indirect</td>\n",
              "      <td>anger_disgust</td>\n",
              "      <td>other</td>\n",
              "      <td>other</td>\n",
              "    </tr>\n",
              "    <tr>\n",
              "      <th>7</th>\n",
              "      <td>old guy bangs young twat @url</td>\n",
              "      <td>fearful_abusive_offensive_hateful_disrespectful</td>\n",
              "      <td>indirect</td>\n",
              "      <td>sadness_indifference</td>\n",
              "      <td>gender</td>\n",
              "      <td>women</td>\n",
              "    </tr>\n",
              "    <tr>\n",
              "      <th>8</th>\n",
              "      <td>right twat?</td>\n",
              "      <td>offensive</td>\n",
              "      <td>direct</td>\n",
              "      <td>confusion_indifference</td>\n",
              "      <td>gender</td>\n",
              "      <td>women</td>\n",
              "    </tr>\n",
              "    <tr>\n",
              "      <th>9</th>\n",
              "      <td>@user see retarded</td>\n",
              "      <td>offensive</td>\n",
              "      <td>indirect</td>\n",
              "      <td>anger_disgust</td>\n",
              "      <td>disability</td>\n",
              "      <td>special_needs</td>\n",
              "    </tr>\n",
              "  </tbody>\n",
              "</table>\n",
              "</div>\n",
              "      <button class=\"colab-df-convert\" onclick=\"convertToInteractive('df-ec414c17-a53b-4aa0-bff3-9da6e8b7743a')\"\n",
              "              title=\"Convert this dataframe to an interactive table.\"\n",
              "              style=\"display:none;\">\n",
              "        \n",
              "  <svg xmlns=\"http://www.w3.org/2000/svg\" height=\"24px\"viewBox=\"0 0 24 24\"\n",
              "       width=\"24px\">\n",
              "    <path d=\"M0 0h24v24H0V0z\" fill=\"none\"/>\n",
              "    <path d=\"M18.56 5.44l.94 2.06.94-2.06 2.06-.94-2.06-.94-.94-2.06-.94 2.06-2.06.94zm-11 1L8.5 8.5l.94-2.06 2.06-.94-2.06-.94L8.5 2.5l-.94 2.06-2.06.94zm10 10l.94 2.06.94-2.06 2.06-.94-2.06-.94-.94-2.06-.94 2.06-2.06.94z\"/><path d=\"M17.41 7.96l-1.37-1.37c-.4-.4-.92-.59-1.43-.59-.52 0-1.04.2-1.43.59L10.3 9.45l-7.72 7.72c-.78.78-.78 2.05 0 2.83L4 21.41c.39.39.9.59 1.41.59.51 0 1.02-.2 1.41-.59l7.78-7.78 2.81-2.81c.8-.78.8-2.07 0-2.86zM5.41 20L4 18.59l7.72-7.72 1.47 1.35L5.41 20z\"/>\n",
              "  </svg>\n",
              "      </button>\n",
              "      \n",
              "  <style>\n",
              "    .colab-df-container {\n",
              "      display:flex;\n",
              "      flex-wrap:wrap;\n",
              "      gap: 12px;\n",
              "    }\n",
              "\n",
              "    .colab-df-convert {\n",
              "      background-color: #E8F0FE;\n",
              "      border: none;\n",
              "      border-radius: 50%;\n",
              "      cursor: pointer;\n",
              "      display: none;\n",
              "      fill: #1967D2;\n",
              "      height: 32px;\n",
              "      padding: 0 0 0 0;\n",
              "      width: 32px;\n",
              "    }\n",
              "\n",
              "    .colab-df-convert:hover {\n",
              "      background-color: #E2EBFA;\n",
              "      box-shadow: 0px 1px 2px rgba(60, 64, 67, 0.3), 0px 1px 3px 1px rgba(60, 64, 67, 0.15);\n",
              "      fill: #174EA6;\n",
              "    }\n",
              "\n",
              "    [theme=dark] .colab-df-convert {\n",
              "      background-color: #3B4455;\n",
              "      fill: #D2E3FC;\n",
              "    }\n",
              "\n",
              "    [theme=dark] .colab-df-convert:hover {\n",
              "      background-color: #434B5C;\n",
              "      box-shadow: 0px 1px 3px 1px rgba(0, 0, 0, 0.15);\n",
              "      filter: drop-shadow(0px 1px 2px rgba(0, 0, 0, 0.3));\n",
              "      fill: #FFFFFF;\n",
              "    }\n",
              "  </style>\n",
              "\n",
              "      <script>\n",
              "        const buttonEl =\n",
              "          document.querySelector('#df-ec414c17-a53b-4aa0-bff3-9da6e8b7743a button.colab-df-convert');\n",
              "        buttonEl.style.display =\n",
              "          google.colab.kernel.accessAllowed ? 'block' : 'none';\n",
              "\n",
              "        async function convertToInteractive(key) {\n",
              "          const element = document.querySelector('#df-ec414c17-a53b-4aa0-bff3-9da6e8b7743a');\n",
              "          const dataTable =\n",
              "            await google.colab.kernel.invokeFunction('convertToInteractive',\n",
              "                                                     [key], {});\n",
              "          if (!dataTable) return;\n",
              "\n",
              "          const docLinkHtml = 'Like what you see? Visit the ' +\n",
              "            '<a target=\"_blank\" href=https://colab.research.google.com/notebooks/data_table.ipynb>data table notebook</a>'\n",
              "            + ' to learn more about interactive tables.';\n",
              "          element.innerHTML = '';\n",
              "          dataTable['output_type'] = 'display_data';\n",
              "          await google.colab.output.renderOutput(dataTable, element);\n",
              "          const docLink = document.createElement('div');\n",
              "          docLink.innerHTML = docLinkHtml;\n",
              "          element.appendChild(docLink);\n",
              "        }\n",
              "      </script>\n",
              "    </div>\n",
              "  </div>\n",
              "  "
            ],
            "text/plain": [
              "                                               tweet  ...          group\n",
              "0  shut fat sweaty mongoloid. never get higher d....  ...  special_needs\n",
              "1                   @user @user look like dyke bruh   ...          women\n",
              "2                         @user r word? mean retard?  ...  special_needs\n",
              "3                        i'm ur motivation twat @url  ...          women\n",
              "4  @user @user ='shithole x countriesn= rapists b...  ...     immigrants\n",
              "5  @user @user @user @user runaway spic. ohhh im ...  ...          other\n",
              "6              marko cunt.nntell something new. @url  ...          other\n",
              "7                      old guy bangs young twat @url  ...          women\n",
              "8                                        right twat?  ...          women\n",
              "9                                 @user see retarded  ...  special_needs\n",
              "\n",
              "[10 rows x 6 columns]"
            ]
          },
          "metadata": {},
          "execution_count": 18
        }
      ]
    },
    {
      "cell_type": "code",
      "source": [
        "df.info()"
      ],
      "metadata": {
        "colab": {
          "base_uri": "https://localhost:8080/"
        },
        "id": "W91RAvUTnUIA",
        "outputId": "4b29cd93-1096-4091-98fd-9aacd36ef752"
      },
      "execution_count": 19,
      "outputs": [
        {
          "output_type": "stream",
          "name": "stdout",
          "text": [
            "<class 'pandas.core.frame.DataFrame'>\n",
            "RangeIndex: 1129 entries, 0 to 1128\n",
            "Data columns (total 6 columns):\n",
            " #   Column               Non-Null Count  Dtype \n",
            "---  ------               --------------  ----- \n",
            " 0   tweet                1129 non-null   object\n",
            " 1   sentiment            1129 non-null   object\n",
            " 2   directness           1129 non-null   object\n",
            " 3   annotator_sentiment  1129 non-null   object\n",
            " 4   target               1129 non-null   object\n",
            " 5   group                1129 non-null   object\n",
            "dtypes: object(6)\n",
            "memory usage: 53.0+ KB\n"
          ]
        }
      ]
    },
    {
      "cell_type": "markdown",
      "source": [
        "Let's write this data exerpt into a CSV file:<br>\n",
        "1. Use the pandas method to_csv() to extract the file.<br>\n",
        "2. Let us name the file as Hate_Speech_MLMA.csv<br>\n",
        "3. The file will be stored in the files directory of Google Colab.<br>\n",
        "4. To download it locally, head into the files directory and select Download.\n",
        "\n",
        "\n"
      ],
      "metadata": {
        "id": "VWKdQQeanX2y"
      }
    },
    {
      "cell_type": "code",
      "source": [
        "df.to_csv('Hate_Speech_MLMA.csv', index=False)"
      ],
      "metadata": {
        "id": "wEsCm1FBnXUt"
      },
      "execution_count": 20,
      "outputs": []
    }
  ]
}